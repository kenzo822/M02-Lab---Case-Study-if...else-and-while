{
 "cells": [
  {
   "cell_type": "code",
   "execution_count": null,
   "id": "9182a698",
   "metadata": {},
   "outputs": [
    {
     "name": "stdout",
     "output_type": "stream",
     "text": [
      "Enter student's last name: Fernandes\n",
      "Enter student's first name: Bruno\n",
      "Enter student's GPA as a decimal: 3.5\n",
      "Donald Fernandes has made the Dean's List\n",
      "Enter student's last name: Miller\n",
      "Enter student's first name: Liam\n",
      "Enter student's GPA as a decimal: 3.4\n",
      "Donald Miller has made the Honor Roll\n",
      "Enter student's last name: Jone\n",
      "Enter student's first name: Phil\n",
      "Enter student's GPA as a decimal: 3.2\n",
      "Enter student's last name: Bart\n",
      "Enter student's first name: Jay\n",
      "Enter student's GPA as a decimal: 3.8\n",
      "Donald Bart has made the Dean's List\n",
      "Enter student's last name: Kyle\n",
      "Enter student's first name: Lee\n",
      "Enter student's GPA as a decimal: 3.9\n",
      "Donald Kyle has made the Dean's List\n",
      "Enter student's last name: Clark\n",
      "Enter student's first name: Nian\n",
      "Enter student's GPA as a decimal: 4.0\n",
      "Donald Clark has made the Dean's List\n"
     ]
    }
   ],
   "source": [
    "# Author: Abdulkazeem Bisiriyu\n",
    "# File Name: Dean_List_app.py\n",
    "# Description: This app accepts student names and GPAs, and determines if they qualify for the Dean's List or Honor Roll.\n",
    "\n",
    "lastname = \"Trump\"  # assigns a default value to lname variable\n",
    "firstname = \"Donald\"  # assigns a default value to fname variable\n",
    "GPA = 0  # assigns default value to GPA variable\n",
    "\n",
    "while True:\n",
    "    lastname = input(\"Enter student's last name: \")  # Asks for student's last name\n",
    "    if lastname == \"ZZZ\":  # Breaks loop if \"ZZZ\" is entered\n",
    "        break\n",
    "    fname = input(\"Enter student's first name: \")  # Asks for student's first name\n",
    "    GPA = float(input(\"Enter student's GPA as a decimal: \"))  # Asks for GPA and assigns the value as a float to GPA variable\n",
    "\n",
    "    # If statements to evaluate the entered GPA to determine if student made Honor Roll or Dean's List\n",
    "    if GPA >= 3.5:\n",
    "        print(firstname, lastname, \"has made the Dean's List\")\n",
    "    elif GPA >= 3.25:\n",
    "        print(firstname, lastname, \"has made the Honor Roll\")\n"
   ]
  }
 ],
 "metadata": {
  "kernelspec": {
   "display_name": "Python 3 (ipykernel)",
   "language": "python",
   "name": "python3"
  },
  "language_info": {
   "codemirror_mode": {
    "name": "ipython",
    "version": 3
   },
   "file_extension": ".py",
   "mimetype": "text/x-python",
   "name": "python",
   "nbconvert_exporter": "python",
   "pygments_lexer": "ipython3",
   "version": "3.11.4"
  }
 },
 "nbformat": 4,
 "nbformat_minor": 5
}
